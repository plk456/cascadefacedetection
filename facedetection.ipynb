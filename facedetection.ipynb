{
 "cells": [
  {
   "cell_type": "code",
   "execution_count": 1,
   "id": "f6ffe6ed-007f-4c9d-ae21-3717526201fb",
   "metadata": {},
   "outputs": [],
   "source": [
    "import numpy as np\n",
    "import matplotlib.pyplot as plt\n",
    "import cv2"
   ]
  },
  {
   "cell_type": "code",
   "execution_count": 2,
   "id": "ee7136f8-664b-44fa-bbdb-296668091bd4",
   "metadata": {},
   "outputs": [],
   "source": [
    "det=cv2.CascadeClassifier('C:/Users/kumar/OneDrive/Desktop/CasCade/haarcascade_frontalface_default.xml')\n",
    "detec=cv2.CascadeClassifier(\"C:/Users/kumar/OneDrive/Desktop/CasCade/palm.xml\")\n",
    "if det.empty() & detec.empty():\n",
    "    print(\"Error loading cascade classifier\")"
   ]
  },
  {
   "cell_type": "code",
   "execution_count": 7,
   "id": "b65bdbd4-3956-4422-b02a-807dd3b4eab8",
   "metadata": {},
   "outputs": [],
   "source": [
    "img=cv2.VideoCapture(0)\n",
    "\n",
    "\n",
    "if not img.isOpened():\n",
    "    print('error in the opeing of the image')\n",
    "    exit()\n",
    "while True:\n",
    "    ret,frame = img.read()\n",
    "\n",
    "    if not ret:\n",
    "        print('cannot read the image')\n",
    "        break\n",
    "    detection=det.detectMultiScale(frame,scaleFactor=1.2, minNeighbors=5)\n",
    "    for(x,y,w,h) in detection:\n",
    "        cv2.rectangle(frame,(x,y),(x+w,y+h),(0,0,234),thickness=3)\n",
    "        \n",
    "    detect=detec.detectMultiScale(frame,scaleFactor=1.1, minNeighbors=5)\n",
    "    for(x,y,w,h) in detect:\n",
    "        cv2.rectangle(frame,(x,y),(x+w,y+h),(0,0,234),thickness=3)\n",
    "\n",
    "\n",
    "\n",
    "    cv2.imshow('Frame',frame)\n",
    "    if cv2.waitKey(1) & 0xFF == ord('q'):\n",
    "        break \n",
    "img.release()\n",
    "cv2.destroyAllWindows()\n",
    "    "
   ]
  },
  {
   "cell_type": "code",
   "execution_count": null,
   "id": "6b66180c-24bf-4a82-b0f2-7bdf05403cfc",
   "metadata": {},
   "outputs": [],
   "source": []
  },
  {
   "cell_type": "code",
   "execution_count": null,
   "id": "4c2f9e0a-c95c-4ef1-8230-fb544d0db182",
   "metadata": {},
   "outputs": [],
   "source": []
  }
 ],
 "metadata": {
  "kernelspec": {
   "display_name": "Python 3 (ipykernel)",
   "language": "python",
   "name": "python3"
  },
  "language_info": {
   "codemirror_mode": {
    "name": "ipython",
    "version": 3
   },
   "file_extension": ".py",
   "mimetype": "text/x-python",
   "name": "python",
   "nbconvert_exporter": "python",
   "pygments_lexer": "ipython3",
   "version": "3.12.7"
  }
 },
 "nbformat": 4,
 "nbformat_minor": 5
}
